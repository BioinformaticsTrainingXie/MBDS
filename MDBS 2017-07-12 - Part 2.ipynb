{
 "cells": [
  {
   "cell_type": "code",
   "execution_count": 12,
   "metadata": {},
   "outputs": [
    {
     "name": "stdout",
     "output_type": "stream",
     "text": [
      "[{'Tables_in_mbdsdb': 'bigdatasurvey'}, {'Tables_in_mbdsdb': 't'}]\n",
      "<class 'list'>\n",
      "{'Field': 'name', 'Type': 'text', 'Null': 'YES', 'Key': '', 'Default': None, 'Extra': ''}\n",
      "{'Field': 'excel', 'Type': 'tinyint(1)', 'Null': 'YES', 'Key': '', 'Default': None, 'Extra': ''}\n",
      "{'Field': 'flatfile', 'Type': 'tinyint(1)', 'Null': 'YES', 'Key': '', 'Default': None, 'Extra': ''}\n",
      "{'Field': 'db', 'Type': 'tinyint(1)', 'Null': 'YES', 'Key': '', 'Default': None, 'Extra': ''}\n",
      "{'Field': 'sqldb', 'Type': 'tinyint(1)', 'Null': 'YES', 'Key': '', 'Default': None, 'Extra': ''}\n",
      "{'Field': 'nosqldb', 'Type': 'tinyint(1)', 'Null': 'YES', 'Key': '', 'Default': None, 'Extra': ''}\n",
      "{'Field': 'document', 'Type': 'tinyint(1)', 'Null': 'YES', 'Key': '', 'Default': None, 'Extra': ''}\n",
      "{'Field': 'graph', 'Type': 'tinyint(1)', 'Null': 'YES', 'Key': '', 'Default': None, 'Extra': ''}\n",
      "{'Field': 'kb', 'Type': 'tinyint(1)', 'Null': 'YES', 'Key': '', 'Default': None, 'Extra': ''}\n",
      "{'Field': 'mb', 'Type': 'tinyint(1)', 'Null': 'YES', 'Key': '', 'Default': None, 'Extra': ''}\n",
      "{'Field': 'gb', 'Type': 'tinyint(1)', 'Null': 'YES', 'Key': '', 'Default': None, 'Extra': ''}\n",
      "{'Field': 'tb', 'Type': 'tinyint(1)', 'Null': 'YES', 'Key': '', 'Default': None, 'Extra': ''}\n"
     ]
    }
   ],
   "source": [
    "import pymysql.cursors\n",
    "\n",
    "connection = pymysql.connect(host='10.24.226.192',\n",
    "                             user='mbdsuser',\n",
    "                             password='mbds2017',\n",
    "                             db='mbdsdb',\n",
    "                             port=3306,\n",
    "                             cursorclass=pymysql.cursors.DictCursor)\n",
    "\n",
    "try:\n",
    "    with connection.cursor() as cursor:\n",
    "        sql = \"SHOW tables\"\n",
    "        cursor.execute(sql)\n",
    "        result = cursor.fetchall()\n",
    "        print(result)\n",
    "        \n",
    "        sql = \"SHOW COLUMNS FROM bigdatasurvey\"\n",
    "        cursor.execute(sql)\n",
    "        result = cursor.fetchall()        \n",
    "        print(type(result))\n",
    "        \n",
    "        for item in result:\n",
    "            print(item)\n",
    "        \n",
    "        connection.commit()\n",
    "\n",
    "finally:\n",
    "    connection.close()\n",
    "        "
   ]
  },
  {
   "cell_type": "code",
   "execution_count": null,
   "metadata": {},
   "outputs": [],
   "source": []
  }
 ],
 "metadata": {
  "kernelspec": {
   "display_name": "Python 3",
   "language": "python",
   "name": "python3"
  }
 },
 "nbformat": 4,
 "nbformat_minor": 2
}

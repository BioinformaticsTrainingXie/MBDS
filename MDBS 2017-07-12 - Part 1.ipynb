{
 "cells": [
  {
   "cell_type": "markdown",
   "metadata": {
    "collapsed": true
   },
   "source": [
    "<div style=\"height:440px;padding:10px;background:#eeeeee;\">\n",
    "<h1 align=\"center\">Scalability and Data Science</h1>\n",
    "<h2 align=\"center\">https://github.com/erozier2/MBDS - (MDBS 2017-07-12 - Part 1.ipynb)</h2>\n",
    "<img src=\"http://dataengineering.org/erozier2/wave1.png\" alt=\"Data Wave\" width=400px>\n",
    "<h3 align=\"center\">Midwest Big Data Summer School, July 2017<br>\n",
    "Eric Rozier (<a href=\"http://dataengineering.org/erozier2\">http://dataengineering.org/erozier2</a>)<br> \n",
    "</h3>\n",
    "</div>"
   ]
  },
  {
   "cell_type": "markdown",
   "metadata": {},
   "source": [
    "<div style=\"padding:10px;background:#eeeeee;\">\n",
    "<h1 align=\"center\">Introductions\n",
    "</h1>\n",
    "<center>\n",
    "<img src=\"http://dataengineering.org/erozier2/trust-areas.png\" width=450px>\n",
    "</center>\n",
    "</div>"
   ]
  },
  {
   "cell_type": "markdown",
   "metadata": {},
   "source": [
    "<div style=\"padding:10px;background:#eeeeee;\">\n",
    "<h1 align=\"center\">Introductions\n",
    "</h1>\n",
    "<center>\n",
    "<img src=\"http://dataengineering.org/erozier2/applications-trust-ISU.png\" width=450px>\n",
    "</center>\n",
    "</div>"
   ]
  },
  {
   "cell_type": "markdown",
   "metadata": {},
   "source": [
    "<div style=\"padding:10px;background:#eeeeee;\">\n",
    "<center>\n",
    "<img src=\"http://dataengineering.org/erozier2/IntroSlides/Presentation1/Slide02.jpg\" width=600px>\n",
    "</center>\n",
    "</div>"
   ]
  },
  {
   "cell_type": "markdown",
   "metadata": {},
   "source": [
    "<div style=\"padding:10px;background:#eeeeee;\">\n",
    "<center>\n",
    "<img src=\"http://dataengineering.org/erozier2/IntroSlides/Presentation1/Slide03.jpg\" width=600px>\n",
    "</center>\n",
    "</div>"
   ]
  },
  {
   "cell_type": "markdown",
   "metadata": {},
   "source": [
    "<div style=\"padding:10px;background:#eeeeee;\">\n",
    "<center>\n",
    "<img src=\"http://dataengineering.org/erozier2/IntroSlides/Presentation1/Slide04.jpg\" width=600px>\n",
    "</center>\n",
    "</div>"
   ]
  },
  {
   "cell_type": "markdown",
   "metadata": {},
   "source": [
    "<div style=\"padding:10px;background:#eeeeee;\">\n",
    "<center>\n",
    "<img src=\"http://dataengineering.org/erozier2/IntroSlides/Presentation1/Slide05.jpg\" width=600px>\n",
    "</center>\n",
    "</div>"
   ]
  },
  {
   "cell_type": "markdown",
   "metadata": {},
   "source": [
    "<div style=\"padding:10px;background:#eeeeee;\">\n",
    "<center>\n",
    "<img src=\"http://dataengineering.org/erozier2/IntroSlides/Presentation1/Slide06.jpg\" width=600px>\n",
    "</center>\n",
    "</div>"
   ]
  },
  {
   "cell_type": "markdown",
   "metadata": {},
   "source": [
    "<div style=\"padding:10px;background:#eeeeee;\">\n",
    "<center>\n",
    "<img src=\"http://dataengineering.org/erozier2/IntroSlides/Presentation1/Slide07.jpg\" width=600px>\n",
    "</center>\n",
    "</div>"
   ]
  },
  {
   "cell_type": "markdown",
   "metadata": {},
   "source": [
    "<div style=\"padding:10px;background:#eeeeee;\">\n",
    "<center>\n",
    "<img src=\"http://dataengineering.org/erozier2/IntroSlides/Presentation1/Slide08.jpg\" width=600px>\n",
    "</center>\n",
    "</div>"
   ]
  },
  {
   "cell_type": "markdown",
   "metadata": {},
   "source": [
    "<div style=\"padding:10px;background:#eeeeee;\">\n",
    "<center>\n",
    "<img src=\"http://dataengineering.org/erozier2/IntroSlides/Presentation1/Slide09.jpg\" width=600px>\n",
    "</center>\n",
    "</div>"
   ]
  },
  {
   "cell_type": "markdown",
   "metadata": {},
   "source": [
    "<div style=\"padding:10px;background:#eeeeee;\">\n",
    "<center>\n",
    "<img src=\"http://dataengineering.org/erozier2/IntroSlides/Presentation1/Slide10.jpg\" width=600px>\n",
    "</center>\n",
    "</div>"
   ]
  },
  {
   "cell_type": "markdown",
   "metadata": {},
   "source": [
    "<div style=\"padding:10px;background:#eeeeee;\">\n",
    "<center>\n",
    "<img src=\"http://dataengineering.org/erozier2/IntroSlides/Presentation1/Slide11.jpg\" width=600px>\n",
    "</center>\n",
    "</div>"
   ]
  },
  {
   "cell_type": "markdown",
   "metadata": {},
   "source": [
    "<div style=\"padding:10px;background:#eeeeee;\">\n",
    "<center>\n",
    "<img src=\"http://dataengineering.org/erozier2/IntroSlides/Presentation1/Slide12.jpg\" width=600px>\n",
    "</center>\n",
    "</div>"
   ]
  },
  {
   "cell_type": "markdown",
   "metadata": {},
   "source": [
    "<div style=\"padding:10px;background:#eeeeee;\">\n",
    "<center>\n",
    "<img src=\"http://dataengineering.org/erozier2/IntroSlides/Presentation1/Slide13.jpg\" width=600px>\n",
    "</center>\n",
    "</div>"
   ]
  },
  {
   "cell_type": "markdown",
   "metadata": {},
   "source": [
    "<div style=\"padding:10px;background:#eeeeee;\">\n",
    "<center>\n",
    "<img src=\"http://dataengineering.org/erozier2/IntroSlides/Presentation1/Slide14.jpg\" width=600px>\n",
    "</center>\n",
    "</div>"
   ]
  },
  {
   "cell_type": "markdown",
   "metadata": {},
   "source": [
    "<div style=\"padding:10px;background:#eeeeee;\">\n",
    "<center>\n",
    "<img src=\"http://dataengineering.org/erozier2/IntroSlides/Presentation1/Slide16.jpg\" width=600px>\n",
    "</center>\n",
    "</div>"
   ]
  },
  {
   "cell_type": "markdown",
   "metadata": {},
   "source": [
    "<div style=\"padding:10px;background:#eeeeee;\">\n",
    "<center>\n",
    "<img src=\"http://dataengineering.org/erozier2/IntroSlides/Presentation1/Slide19.jpg\" width=600px>\n",
    "</center>\n",
    "</div>"
   ]
  },
  {
   "cell_type": "markdown",
   "metadata": {},
   "source": [
    "<div style=\"padding:10px;background:#eeeeee;\">\n",
    "<center>\n",
    "<img src=\"http://dataengineering.org/erozier2/IntroSlides/Presentation1/Slide20.jpg\" width=600px>\n",
    "</center>\n",
    "</div>"
   ]
  },
  {
   "cell_type": "markdown",
   "metadata": {},
   "source": [
    "<div style=\"padding:10px;background:#eeeeee;\">\n",
    "<center>\n",
    "<img src=\"http://dataengineering.org/erozier2/IntroSlides/Presentation1/Slide21.jpg\" width=600px>\n",
    "</center>\n",
    "</div>"
   ]
  },
  {
   "cell_type": "markdown",
   "metadata": {},
   "source": [
    "<h1>The Data Deluge</h1>\n",
    "<center>\n",
    "<img src=\"http://dataengineering.org/erozier2/wave1.png\" alt=\"Data Wave\" width=800px>\n",
    "</center>"
   ]
  },
  {
   "cell_type": "markdown",
   "metadata": {},
   "source": [
    "<h1>Usable Data for Determining What you Want to Know</h1>\n",
    "<center>\n",
    "<img src=\"http://dataengineering.org/erozier2/wave2.png\" alt=\"Data Wave\" width=800px>\n",
    "</center>"
   ]
  },
  {
   "cell_type": "markdown",
   "metadata": {},
   "source": [
    "<h1>Data Being Analyzed</h1>\n",
    "<center>\n",
    "<img src=\"http://dataengineering.org/erozier2/wave3.png\" alt=\"Data Wave\" width=800px>\n",
    "</center>"
   ]
  },
  {
   "cell_type": "markdown",
   "metadata": {},
   "source": [
    "<div style=\"height:450px;padding:10px;background:#eeeeee;\">\n",
    "<center><h1>How big is Big?</h1></center>\n",
    "<h3>A survey for MBDS participants</h3>\n",
    "<center>\n",
    "<a href=\"https://docs.google.com/spreadsheets/d/1lxil1HFnG3hUkjrmHANv8sPMQgThCxnTlit23wBR_Q4/edit?usp=sharing\">https://docs.google.com/spreadsheets/d/1lxil1HFnG3hUkjrmHANv8sPMQgThCxnTlit23wBR_Q4/edit?usp=sharing</a>\n",
    "</center>\n",
    "\n",
    "<ul style=\"font-size:14pt\">\n",
    "<li>Fill in your name, indicate in columns information on the type of data, and the size of the data, you've dealt with</li>\n",
    "<li>How has the data been stored? Excel?  Flat files?  DBs?</li>\n",
    "<li>How big was the data?</li>\n",
    "<li>How did the data change over time?</li>\n",
    "</ul>\n",
    "</div>"
   ]
  },
  {
   "cell_type": "markdown",
   "metadata": {},
   "source": [
    "<div style=\"height:450px;padding:10px;background:#eeeeee;\">\n",
    "<center><h1>Can Little be big?</h1></center>\n",
    "<h3>Tagging of Pelagic Predators</h3><br>\n",
    "<h3><a href=\"http://www.gtopp.org/\">http://www.gtopp.org/</a></h3><br>\n",
    "<center><img src=\"http://www.gtopp.org/images/phocagallery/thumbs/phoca_thumb_l_topp_tags_9-05_0003.jpg\" width=450px></center>\n",
    "\n",
    "</div>"
   ]
  },
  {
   "cell_type": "markdown",
   "metadata": {},
   "source": [
    "<div style=\"padding:10px;background:#eeeeee;\">\n",
    "<center><h1>IBM's 4 V's of Big Data</h1></center>\n",
    "<center><img src=\"http://www.ibmbigdatahub.com/sites/default/files/styles/xlarge-scaled/public/infographic_image/4-Vs-of-big-data.jpg\"></center>\n",
    "<a href=\"http://www.ibmbigdatahub.com/infographic/four-vs-big-data\">http://www.ibmbigdatahub.com/infographic/four-vs-big-data</a>\n",
    "</div>"
   ]
  }
 ],
 "metadata": {
  "kernelspec": {
   "display_name": "Python 3",
   "language": "python",
   "name": "python3"
  },
  "language_info": {
   "codemirror_mode": {
    "name": "ipython",
    "version": 3
   },
   "file_extension": ".py",
   "mimetype": "text/x-python",
   "name": "python",
   "nbconvert_exporter": "python",
   "pygments_lexer": "ipython3",
   "version": "3.6.1"
  }
 },
 "nbformat": 4,
 "nbformat_minor": 2
}

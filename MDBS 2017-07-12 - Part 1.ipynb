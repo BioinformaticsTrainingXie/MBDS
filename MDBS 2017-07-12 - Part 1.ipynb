{
 "cells": [
  {
   "cell_type": "code",
   "execution_count": null,
   "metadata": {
    "collapsed": true
   },
   "outputs": [],
   "source": [
    "<div style=\"height:440px;padding:10px;background:#eeeeee;\">\n",
    "<h1 align=\"center\">A Crash Course in Programming in Python</h1>\n",
    "<h2 align=\"center\">https://github.com/erozier2/MBDS - (MDBS 2017-07-12 - Part 1.ipynb)</h2>\n",
    "<img src=\"http://gith.png\" alt=\"See https://xkcd.com/353/\">\n",
    "<h3 align=\"center\">Midwest Big Data Summer School, July 2017<br>\n",
    "Eric Rozier (<a href=\"http://dataengineering.org/erozier2\">http://dataengineering.org/erozier2</a>)<br> \n",
    "with David Johnston\n",
    "</h3>\n",
    "</div>"
   ]
  }
 ],
 "metadata": {
  "kernelspec": {
   "display_name": "Python 3",
   "language": "python",
   "name": "python3"
  },
  "language_info": {
   "codemirror_mode": {
    "name": "ipython",
    "version": 3
   },
   "file_extension": ".py",
   "mimetype": "text/x-python",
   "name": "python",
   "nbconvert_exporter": "python",
   "pygments_lexer": "ipython3",
   "version": "3.6.1"
  }
 },
 "nbformat": 4,
 "nbformat_minor": 2
}

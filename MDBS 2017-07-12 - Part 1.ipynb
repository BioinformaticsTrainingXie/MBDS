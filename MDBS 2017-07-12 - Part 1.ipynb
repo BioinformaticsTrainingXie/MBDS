{
 "cells": [
  {
   "cell_type": "markdown",
   "metadata": {
    "collapsed": true
   },
   "source": [
    "<div style=\"height:440px;padding:10px;background:#eeeeee;\">\n",
    "<h1 align=\"center\">Scalability and Data Science</h1>\n",
    "<h2 align=\"center\">https://github.com/erozier2/MBDS - (MDBS 2017-07-12 - Part 1.ipynb)</h2>\n",
    "<img src=\"http://dataengineering.org/erozier2/wave1.png\" alt=\"Data Wave\" width=400px>\n",
    "<h3 align=\"center\">Midwest Big Data Summer School, July 2017<br>\n",
    "Eric Rozier (<a href=\"http://dataengineering.org/erozier2\">http://dataengineering.org/erozier2</a>)<br> \n",
    "</h3>\n",
    "</div>"
   ]
  },
  {
   "cell_type": "markdown",
   "metadata": {},
   "source": [
    "<div style=\"padding:10px;background:#eeeeee;\">\n",
    "<h1 align=\"center\">Introductions\n",
    "</h1>\n",
    "<center>\n",
    "<img src=\"http://dataengineering.org/erozier2/trust-areas.png\" width=450px>\n",
    "</center>\n",
    "</div>"
   ]
  },
  {
   "cell_type": "markdown",
   "metadata": {},
   "source": [
    "<div style=\"padding:10px;background:#eeeeee;\">\n",
    "<h1 align=\"center\">Introductions\n",
    "</h1>\n",
    "<center>\n",
    "<img src=\"http://dataengineering.org/erozier2/applications-trust-ISU.png\" width=450px>\n",
    "</center>\n",
    "</div>"
   ]
  },
  {
   "cell_type": "markdown",
   "metadata": {},
   "source": [
    "<div style=\"padding:10px;background:#eeeeee;\">\n",
    "<center>\n",
    "<img src=\"http://dataengineering.org/erozier2/IntroSlides/Presentation1/Slide02.jpg\" width=600px>\n",
    "</center>\n",
    "</div>"
   ]
  },
  {
   "cell_type": "markdown",
   "metadata": {},
   "source": [
    "<div style=\"padding:10px;background:#eeeeee;\">\n",
    "<center>\n",
    "<img src=\"http://dataengineering.org/erozier2/IntroSlides/Presentation1/Slide03.jpg\" width=600px>\n",
    "</center>\n",
    "</div>"
   ]
  },
  {
   "cell_type": "markdown",
   "metadata": {},
   "source": [
    "<div style=\"padding:10px;background:#eeeeee;\">\n",
    "<center>\n",
    "<img src=\"http://dataengineering.org/erozier2/IntroSlides/Presentation1/Slide04.jpg\" width=600px>\n",
    "</center>\n",
    "</div>"
   ]
  },
  {
   "cell_type": "markdown",
   "metadata": {},
   "source": [
    "<div style=\"padding:10px;background:#eeeeee;\">\n",
    "<center>\n",
    "<img src=\"http://dataengineering.org/erozier2/IntroSlides/Presentation1/Slide05.jpg\" width=600px>\n",
    "</center>\n",
    "</div>"
   ]
  },
  {
   "cell_type": "markdown",
   "metadata": {},
   "source": [
    "<div style=\"padding:10px;background:#eeeeee;\">\n",
    "<center>\n",
    "<img src=\"http://dataengineering.org/erozier2/IntroSlides/Presentation1/Slide06.jpg\" width=600px>\n",
    "</center>\n",
    "</div>"
   ]
  },
  {
   "cell_type": "markdown",
   "metadata": {},
   "source": [
    "<div style=\"padding:10px;background:#eeeeee;\">\n",
    "<center>\n",
    "<img src=\"http://dataengineering.org/erozier2/IntroSlides/Presentation1/Slide07.jpg\" width=600px>\n",
    "</center>\n",
    "</div>"
   ]
  },
  {
   "cell_type": "markdown",
   "metadata": {},
   "source": [
    "<div style=\"padding:10px;background:#eeeeee;\">\n",
    "<center>\n",
    "<img src=\"http://dataengineering.org/erozier2/IntroSlides/Presentation1/Slide08.jpg\" width=600px>\n",
    "</center>\n",
    "</div>"
   ]
  },
  {
   "cell_type": "markdown",
   "metadata": {},
   "source": [
    "<div style=\"padding:10px;background:#eeeeee;\">\n",
    "<center>\n",
    "<img src=\"http://dataengineering.org/erozier2/IntroSlides/Presentation1/Slide09.jpg\" width=600px>\n",
    "</center>\n",
    "</div>"
   ]
  },
  {
   "cell_type": "markdown",
   "metadata": {},
   "source": [
    "<div style=\"padding:10px;background:#eeeeee;\">\n",
    "<center>\n",
    "<img src=\"http://dataengineering.org/erozier2/IntroSlides/Presentation1/Slide10.jpg\" width=600px>\n",
    "</center>\n",
    "</div>"
   ]
  },
  {
   "cell_type": "markdown",
   "metadata": {},
   "source": [
    "<div style=\"padding:10px;background:#eeeeee;\">\n",
    "<center>\n",
    "<img src=\"http://dataengineering.org/erozier2/IntroSlides/Presentation1/Slide11.jpg\" width=600px>\n",
    "</center>\n",
    "</div>"
   ]
  },
  {
   "cell_type": "markdown",
   "metadata": {},
   "source": [
    "<div style=\"padding:10px;background:#eeeeee;\">\n",
    "<center>\n",
    "<img src=\"http://dataengineering.org/erozier2/IntroSlides/Presentation1/Slide12.jpg\" width=600px>\n",
    "</center>\n",
    "</div>"
   ]
  },
  {
   "cell_type": "markdown",
   "metadata": {},
   "source": [
    "<div style=\"padding:10px;background:#eeeeee;\">\n",
    "<center>\n",
    "<img src=\"http://dataengineering.org/erozier2/IntroSlides/Presentation1/Slide13.jpg\" width=600px>\n",
    "</center>\n",
    "</div>"
   ]
  },
  {
   "cell_type": "markdown",
   "metadata": {},
   "source": [
    "<div style=\"padding:10px;background:#eeeeee;\">\n",
    "<center>\n",
    "<img src=\"http://dataengineering.org/erozier2/IntroSlides/Presentation1/Slide14.jpg\" width=600px>\n",
    "</center>\n",
    "</div>"
   ]
  },
  {
   "cell_type": "markdown",
   "metadata": {},
   "source": [
    "<div style=\"padding:10px;background:#eeeeee;\">\n",
    "<center>\n",
    "<img src=\"http://dataengineering.org/erozier2/IntroSlides/Presentation1/Slide16.jpg\" width=600px>\n",
    "</center>\n",
    "</div>"
   ]
  },
  {
   "cell_type": "markdown",
   "metadata": {},
   "source": [
    "<div style=\"padding:10px;background:#eeeeee;\">\n",
    "<center>\n",
    "<img src=\"http://dataengineering.org/erozier2/IntroSlides/Presentation1/Slide19.jpg\" width=600px>\n",
    "</center>\n",
    "</div>"
   ]
  },
  {
   "cell_type": "markdown",
   "metadata": {},
   "source": [
    "<div style=\"padding:10px;background:#eeeeee;\">\n",
    "<center>\n",
    "<img src=\"http://dataengineering.org/erozier2/IntroSlides/Presentation1/Slide20.jpg\" width=600px>\n",
    "</center>\n",
    "</div>"
   ]
  },
  {
   "cell_type": "markdown",
   "metadata": {},
   "source": [
    "<div style=\"padding:10px;background:#eeeeee;\">\n",
    "<center>\n",
    "<img src=\"http://dataengineering.org/erozier2/IntroSlides/Presentation1/Slide21.jpg\" width=600px>\n",
    "</center>\n",
    "</div>"
   ]
  },
  {
   "cell_type": "markdown",
   "metadata": {},
   "source": [
    "<h1>The Data Deluge</h1>\n",
    "<center>\n",
    "<img src=\"http://dataengineering.org/erozier2/wave1.png\" alt=\"Data Wave\" width=800px>\n",
    "</center>"
   ]
  },
  {
   "cell_type": "markdown",
   "metadata": {},
   "source": [
    "<h1>Usable Data for Determining What you Want to Know</h1>\n",
    "<center>\n",
    "<img src=\"http://dataengineering.org/erozier2/wave2.png\" alt=\"Data Wave\" width=800px>\n",
    "</center>"
   ]
  },
  {
   "cell_type": "markdown",
   "metadata": {},
   "source": [
    "<h1>Data Being Analyzed</h1>\n",
    "<center>\n",
    "<img src=\"http://dataengineering.org/erozier2/wave3.png\" alt=\"Data Wave\" width=800px>\n",
    "</center>"
   ]
  }
 ],
 "metadata": {
  "kernelspec": {
   "display_name": "Python 3",
   "language": "python",
   "name": "python3"
  },
  "language_info": {
   "codemirror_mode": {
    "name": "ipython",
    "version": 3
   },
   "file_extension": ".py",
   "mimetype": "text/x-python",
   "name": "python",
   "nbconvert_exporter": "python",
   "pygments_lexer": "ipython3",
   "version": "3.6.1"
  }
 },
 "nbformat": 4,
 "nbformat_minor": 2
}
